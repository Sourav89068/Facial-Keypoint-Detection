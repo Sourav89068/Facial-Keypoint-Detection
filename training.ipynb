{
 "cells": [
  {
   "cell_type": "markdown",
   "id": "temporal-young",
   "metadata": {},
   "source": [
    "# Necessary imports"
   ]
  },
  {
   "cell_type": "code",
   "execution_count": 1,
   "id": "mediterranean-blowing",
   "metadata": {},
   "outputs": [],
   "source": [
    "import numpy as np\n",
    "import pandas as pd\n",
    "from pathlib import Path\n",
    "import matplotlib.pyplot as plt\n",
    "import seaborn as sns\n",
    "%matplotlib inline\n",
    "\n",
    "import torch\n",
    "from torch.utils.data import Dataset, DataLoader\n",
    "from torch.utils.data.sampler import SubsetRandomSampler\n",
    "from torchvision import transforms, utils\n",
    "\n",
    "from torch import nn, optim\n",
    "import torch.nn.functional as F\n",
    "\n",
    "import warnings\n",
    "warnings.filterwarnings('ignore')"
   ]
  },
  {
   "cell_type": "markdown",
   "id": "handed-treat",
   "metadata": {},
   "source": [
    "# Reading training data "
   ]
  },
  {
   "cell_type": "code",
   "execution_count": 2,
   "id": "pediatric-violin",
   "metadata": {},
   "outputs": [],
   "source": [
    "train_data = pd.read_csv('training.csv')"
   ]
  },
  {
   "cell_type": "markdown",
   "id": "going-physics",
   "metadata": {},
   "source": [
    "# Data Loading "
   ]
  },
  {
   "cell_type": "code",
   "execution_count": 3,
   "id": "abroad-antibody",
   "metadata": {
    "tags": []
   },
   "outputs": [],
   "source": [
    "from dataset import FaceKeypointsDataset"
   ]
  },
  {
   "cell_type": "code",
   "execution_count": 4,
   "id": "green-breath",
   "metadata": {},
   "outputs": [],
   "source": [
    "train_df=train_data.dropna()"
   ]
  },
  {
   "cell_type": "code",
   "execution_count": 5,
   "id": "green-approval",
   "metadata": {},
   "outputs": [],
   "source": [
    "from transforms import Normalize, ToTensor, RandomHorizontalFlip\n",
    "train_transform=transforms.Compose([RandomHorizontalFlip(p=1.0),Normalize(),ToTensor()])\n",
    "trainset= FaceKeypointsDataset(train_df,transform=train_transform)"
   ]
  },
  {
   "cell_type": "code",
   "execution_count": 6,
   "id": "hindu-caution",
   "metadata": {},
   "outputs": [],
   "source": [
    "from dataloader import prepare_train_valid_loaders\n",
    "train_loader, valid_loader= prepare_train_valid_loaders(trainset)"
   ]
  },
  {
   "cell_type": "markdown",
   "id": "manufactured-avatar",
   "metadata": {},
   "source": [
    "# Training "
   ]
  },
  {
   "cell_type": "code",
   "execution_count": 7,
   "id": "express-laugh",
   "metadata": {},
   "outputs": [],
   "source": [
    "from train import train"
   ]
  },
  {
   "cell_type": "code",
   "execution_count": 8,
   "id": "considered-composite",
   "metadata": {},
   "outputs": [],
   "source": [
    "criterion = nn.MSELoss()"
   ]
  },
  {
   "cell_type": "code",
   "execution_count": 9,
   "id": "unusual-short",
   "metadata": {},
   "outputs": [],
   "source": [
    "from model import CNN\n",
    "device = torch.device('cuda' if torch.cuda.is_available() else 'cpu')\n",
    "model = CNN(outputs=30)\n",
    "model = model.to(device)\n",
    "criterion = nn.MSELoss()\n",
    "optimizer = optim.Adam(model.parameters(), lr=0.0035)"
   ]
  },
  {
   "cell_type": "code",
   "execution_count": 10,
   "id": "serious-dealer",
   "metadata": {},
   "outputs": [
    {
     "name": "stdout",
     "output_type": "stream",
     "text": [
      "Epoch: 1 \tTraining Loss: 49.985766 \tValidation Loss: 50.498857\n",
      "Validation loss decreased (inf --> 50.498857).  Saving model ...\n",
      "Epoch: 2 \tTraining Loss: 49.070453 \tValidation Loss: 42.916226\n",
      "Validation loss decreased (50.498857 --> 42.916226).  Saving model ...\n",
      "Epoch: 3 \tTraining Loss: 27.971894 \tValidation Loss: 6.587894\n",
      "Validation loss decreased (42.916226 --> 6.587894).  Saving model ...\n",
      "Epoch: 4 \tTraining Loss: 14.320083 \tValidation Loss: 8.417363\n",
      "Epoch: 5 \tTraining Loss: 9.595877 \tValidation Loss: 5.099466\n",
      "Validation loss decreased (6.587894 --> 5.099466).  Saving model ...\n",
      "Epoch: 6 \tTraining Loss: 7.623836 \tValidation Loss: 3.610826\n",
      "Validation loss decreased (5.099466 --> 3.610826).  Saving model ...\n",
      "Epoch: 7 \tTraining Loss: 6.532960 \tValidation Loss: 3.448467\n",
      "Validation loss decreased (3.610826 --> 3.448467).  Saving model ...\n",
      "Epoch: 8 \tTraining Loss: 6.200264 \tValidation Loss: 3.678866\n",
      "Epoch: 9 \tTraining Loss: 5.851681 \tValidation Loss: 3.328769\n",
      "Validation loss decreased (3.448467 --> 3.328769).  Saving model ...\n",
      "Epoch: 10 \tTraining Loss: 5.544150 \tValidation Loss: 3.234236\n",
      "Validation loss decreased (3.328769 --> 3.234236).  Saving model ...\n",
      "Epoch: 11 \tTraining Loss: 5.471846 \tValidation Loss: 3.247681\n",
      "Epoch: 12 \tTraining Loss: 5.242819 \tValidation Loss: 3.215431\n",
      "Validation loss decreased (3.234236 --> 3.215431).  Saving model ...\n",
      "Epoch: 13 \tTraining Loss: 5.191901 \tValidation Loss: 3.191905\n",
      "Validation loss decreased (3.215431 --> 3.191905).  Saving model ...\n",
      "Epoch: 14 \tTraining Loss: 5.075438 \tValidation Loss: 3.153552\n",
      "Validation loss decreased (3.191905 --> 3.153552).  Saving model ...\n",
      "Epoch: 15 \tTraining Loss: 5.055413 \tValidation Loss: 3.201820\n",
      "Epoch: 16 \tTraining Loss: 4.939196 \tValidation Loss: 3.179882\n",
      "Epoch: 17 \tTraining Loss: 4.960584 \tValidation Loss: 3.231136\n",
      "Epoch: 18 \tTraining Loss: 4.924120 \tValidation Loss: 3.154047\n",
      "Epoch: 19 \tTraining Loss: 5.013184 \tValidation Loss: 3.154201\n",
      "Epoch: 20 \tTraining Loss: 4.840833 \tValidation Loss: 3.155305\n",
      "Epoch: 21 \tTraining Loss: 4.808953 \tValidation Loss: 3.200516\n",
      "Epoch: 22 \tTraining Loss: 4.831778 \tValidation Loss: 3.178969\n",
      "Epoch: 23 \tTraining Loss: 4.848182 \tValidation Loss: 3.356987\n",
      "Epoch: 24 \tTraining Loss: 4.896536 \tValidation Loss: 3.156369\n",
      "Epoch: 25 \tTraining Loss: 4.756924 \tValidation Loss: 3.133114\n",
      "Validation loss decreased (3.153552 --> 3.133114).  Saving model ...\n",
      "Epoch: 26 \tTraining Loss: 4.765009 \tValidation Loss: 3.150109\n",
      "Epoch: 27 \tTraining Loss: 4.728331 \tValidation Loss: 3.138659\n",
      "Epoch: 28 \tTraining Loss: 4.747220 \tValidation Loss: 3.144071\n",
      "Epoch: 29 \tTraining Loss: 4.672203 \tValidation Loss: 3.125029\n",
      "Validation loss decreased (3.133114 --> 3.125029).  Saving model ...\n",
      "Epoch: 30 \tTraining Loss: 4.606782 \tValidation Loss: 3.115493\n",
      "Validation loss decreased (3.125029 --> 3.115493).  Saving model ...\n",
      "Epoch: 31 \tTraining Loss: 4.657266 \tValidation Loss: 3.115504\n",
      "Epoch: 32 \tTraining Loss: 4.531247 \tValidation Loss: 3.097371\n",
      "Validation loss decreased (3.115493 --> 3.097371).  Saving model ...\n",
      "Epoch: 33 \tTraining Loss: 4.630222 \tValidation Loss: 3.089079\n",
      "Validation loss decreased (3.097371 --> 3.089079).  Saving model ...\n",
      "Epoch: 34 \tTraining Loss: 4.611574 \tValidation Loss: 3.089491\n",
      "Epoch: 35 \tTraining Loss: 4.575346 \tValidation Loss: 3.137380\n",
      "Epoch: 36 \tTraining Loss: 4.553934 \tValidation Loss: 3.091416\n",
      "Epoch: 37 \tTraining Loss: 4.553681 \tValidation Loss: 3.117500\n",
      "Epoch: 38 \tTraining Loss: 4.521898 \tValidation Loss: 3.265217\n",
      "Epoch: 39 \tTraining Loss: 4.604254 \tValidation Loss: 3.191836\n",
      "Epoch: 40 \tTraining Loss: 4.557054 \tValidation Loss: 3.094028\n",
      "Epoch: 41 \tTraining Loss: 4.484621 \tValidation Loss: 3.173788\n",
      "Epoch: 42 \tTraining Loss: 4.458618 \tValidation Loss: 3.217043\n",
      "Epoch: 43 \tTraining Loss: 4.547434 \tValidation Loss: 3.145804\n",
      "Epoch: 44 \tTraining Loss: 4.484744 \tValidation Loss: 3.138344\n",
      "Epoch: 45 \tTraining Loss: 4.428959 \tValidation Loss: 3.079632\n",
      "Validation loss decreased (3.089079 --> 3.079632).  Saving model ...\n",
      "Epoch: 46 \tTraining Loss: 4.378355 \tValidation Loss: 3.158647\n",
      "Epoch: 47 \tTraining Loss: 4.304828 \tValidation Loss: 3.432857\n",
      "Epoch: 48 \tTraining Loss: 4.446931 \tValidation Loss: 3.158812\n",
      "Epoch: 49 \tTraining Loss: 4.346667 \tValidation Loss: 3.086335\n",
      "Epoch: 50 \tTraining Loss: 4.334562 \tValidation Loss: 3.107666\n"
     ]
    }
   ],
   "source": [
    "t_l,v_l=train(train_loader,valid_loader,model,criterion,optimizer,n_epochs=50,saved_model=\"CNN.pt\")"
   ]
  },
  {
   "cell_type": "markdown",
   "id": "underlying-conviction",
   "metadata": {},
   "source": [
    "# Plot of training and Validation Loss "
   ]
  },
  {
   "cell_type": "code",
   "execution_count": 11,
   "id": "ambient-possession",
   "metadata": {},
   "outputs": [
    {
     "data": {
      "text/plain": [
       "Text(0, 0.5, 'Loss')"
      ]
     },
     "execution_count": 11,
     "metadata": {},
     "output_type": "execute_result"
    },
    {
     "data": {
      "image/png": "[encoded data removed]",
      "text/plain": [
       "<Figure size 864x576 with 1 Axes>"
      ]
     },
     "metadata": {
      "needs_background": "light"
     },
     "output_type": "display_data"
    }
   ],
   "source": [
    "plt.figure(figsize=(12,8))\n",
    "plt.plot(np.arange(1,51),t_l,\"r.-\",label=\"Training Loss\")\n",
    "plt.plot(np.arange(1,51),v_l,\"g*--\",label='Validation Loss')\n",
    "plt.legend()\n",
    "plt.xlim((0,51))\n",
    "plt.xlabel(\"Number of epochs\",fontdict={'family': 'serif','color': 'darkBlue','weight': 'normal','size': 16,})\n",
    "plt.ylabel(\"Loss\",fontdict={'family': 'serif','color': 'darkBlue','weight': 'normal','size': 16,})"
   ]
  },
  {
   "cell_type": "code",
   "execution_count": null,
   "id": "changed-spine",
   "metadata": {
    "jupyter": {
     "source_hidden": true
    }
   },
   "outputs": [],
   "source": []
  },
  {
   "cell_type": "code",
   "execution_count": null,
   "id": "possible-panama",
   "metadata": {
    "jupyter": {
     "source_hidden": true
    }
   },
   "outputs": [],
   "source": []
  },
  {
   "cell_type": "code",
   "execution_count": null,
   "id": "instructional-evans",
   "metadata": {
    "jupyter": {
     "source_hidden": true
    }
   },
   "outputs": [],
   "source": []
  },
  {
   "cell_type": "code",
   "execution_count": null,
   "id": "manual-microwave",
   "metadata": {
    "jupyter": {
     "source_hidden": true
    }
   },
   "outputs": [],
   "source": []
  },
  {
   "cell_type": "code",
   "execution_count": null,
   "id": "binary-register",
   "metadata": {
    "jupyter": {
     "source_hidden": true
    }
   },
   "outputs": [],
   "source": []
  },
  {
   "cell_type": "code",
   "execution_count": null,
   "id": "diverse-crack",
   "metadata": {
    "jupyter": {
     "source_hidden": true
    }
   },
   "outputs": [],
   "source": []
  },
  {
   "cell_type": "markdown",
   "id": "fabulous-cannon",
   "metadata": {},
   "source": [
    "# for different learning rate for adam optimizer use these two functions"
   ]
  },
  {
   "cell_type": "markdown",
   "id": "forty-logistics",
   "metadata": {},
   "source": [
    "### first make a directory with name adam_mse_lr100"
   ]
  },
  {
   "cell_type": "code",
   "execution_count": 12,
   "id": "canadian-python",
   "metadata": {},
   "outputs": [],
   "source": [
    "# def func(x,y,name):\n",
    "#     df=pd.DataFrame({\"train_loss\":x,\"valid_loss\":y})\n",
    "#     return df.to_csv(name,index=False)\n",
    "# def differentlr(n):\n",
    "#     '''\n",
    "#     n: number of learning rates starting from 0.001 and at an interval of 0.001\n",
    "#     '''\n",
    "#     for i in range(n):\n",
    "#         optimizer=optim.Adam(model.parameters(),lr=(i+1)/1000)\n",
    "#         t_l,v_l=train(train_loader,valid_loader,model,criterion,optimizer,n_epochs=50,saved_model=\"CNN.pt\")\n",
    "#         nem=\"adam_mse_lr100/lr_\"+str((i+1)/1000)+\".csv\"\n",
    "#         func(t_l,v_l,nem)\n",
    "# difflr(20)"
   ]
  }
 ],
 "metadata": {
  "kernelspec": {
   "display_name": "Python 3",
   "language": "python",
   "name": "python3"
  },
  "language_info": {
   "codemirror_mode": {
    "name": "ipython",
    "version": 3
   },
   "file_extension": ".py",
   "mimetype": "text/x-python",
   "name": "python",
   "nbconvert_exporter": "python",
   "pygments_lexer": "ipython3",
   "version": "3.8.5"
  }
 },
 "nbformat": 4,
 "nbformat_minor": 5
}
